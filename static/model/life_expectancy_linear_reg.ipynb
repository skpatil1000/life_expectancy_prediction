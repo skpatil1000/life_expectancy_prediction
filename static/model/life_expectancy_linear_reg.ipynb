{
 "cells": [
  {
   "cell_type": "code",
   "execution_count": 121,
   "id": "9bd91d11",
   "metadata": {},
   "outputs": [],
   "source": [
    "import pandas as pd\n",
    "import numpy as np\n",
    "import seaborn as sns\n",
    "import matplotlib.pyplot as plt\n",
    "from sklearn.model_selection import train_test_split\n",
    "from statsmodels.stats.outliers_influence import variance_inflation_factor\n",
    "from sklearn.metrics import mean_squared_error,mean_absolute_error, r2_score\n",
    "import plotly.express as px\n",
    "from sklearn.linear_model import LinearRegression\n",
    "import json\n",
    "import pickle\n",
    "import re\n",
    "import statsmodels.api as sm\n",
    "from scipy.stats import skew"
   ]
  },
  {
   "cell_type": "code",
   "execution_count": 52,
   "id": "3ca6f7c2",
   "metadata": {},
   "outputs": [
    {
     "data": {
      "text/plain": [
       "Index(['Country', 'Year', 'Status', 'Life expectancy ', 'Adult Mortality',\n",
       "       'infant deaths', 'Alcohol', 'percentage expenditure', 'Hepatitis B',\n",
       "       'Measles ', ' BMI ', 'under-five deaths ', 'Polio', 'Total expenditure',\n",
       "       'Diphtheria ', ' HIV/AIDS', 'GDP', 'Population',\n",
       "       ' thinness  1-19 years', ' thinness 5-9 years',\n",
       "       'Income composition of resources', 'Schooling'],\n",
       "      dtype='object')"
      ]
     },
     "execution_count": 52,
     "metadata": {},
     "output_type": "execute_result"
    }
   ],
   "source": [
    "df = pd.read_csv('Life Expectancy Data.csv')\n",
    "col_list = df.columns\n",
    "col_list"
   ]
  },
  {
   "cell_type": "code",
   "execution_count": 53,
   "id": "f5547416",
   "metadata": {},
   "outputs": [
    {
     "data": {
      "text/plain": [
       "['Country',\n",
       " 'Year',\n",
       " 'Status',\n",
       " 'Life_expectancy',\n",
       " 'Adult_Mortality',\n",
       " 'infant_deaths',\n",
       " 'Alcohol',\n",
       " 'percentage_expenditure',\n",
       " 'Hepatitis_B',\n",
       " 'Measles',\n",
       " 'BMI',\n",
       " 'under_five_deaths',\n",
       " 'Polio',\n",
       " 'Total_expenditure',\n",
       " 'Diphtheria',\n",
       " 'HIV_AIDS',\n",
       " 'GDP',\n",
       " 'Population',\n",
       " 'thinness__1_19_years',\n",
       " 'thinness_5_9_years',\n",
       " 'Income_composition_of_resources',\n",
       " 'Schooling']"
      ]
     },
     "execution_count": 53,
     "metadata": {},
     "output_type": "execute_result"
    }
   ],
   "source": [
    "col_list1 = list(map(lambda x : re.sub('[^A-Za-z0-9]','_',x.strip()),col_list))\n",
    "col_list1"
   ]
  },
  {
   "cell_type": "code",
   "execution_count": 54,
   "id": "d0be9059",
   "metadata": {},
   "outputs": [
    {
     "data": {
      "text/html": [
       "<div>\n",
       "<style scoped>\n",
       "    .dataframe tbody tr th:only-of-type {\n",
       "        vertical-align: middle;\n",
       "    }\n",
       "\n",
       "    .dataframe tbody tr th {\n",
       "        vertical-align: top;\n",
       "    }\n",
       "\n",
       "    .dataframe thead th {\n",
       "        text-align: right;\n",
       "    }\n",
       "</style>\n",
       "<table border=\"1\" class=\"dataframe\">\n",
       "  <thead>\n",
       "    <tr style=\"text-align: right;\">\n",
       "      <th></th>\n",
       "      <th>Country</th>\n",
       "      <th>Year</th>\n",
       "      <th>Status</th>\n",
       "      <th>Life_expectancy</th>\n",
       "      <th>Adult_Mortality</th>\n",
       "      <th>infant_deaths</th>\n",
       "      <th>Alcohol</th>\n",
       "      <th>percentage_expenditure</th>\n",
       "      <th>Hepatitis_B</th>\n",
       "      <th>Measles</th>\n",
       "      <th>...</th>\n",
       "      <th>Polio</th>\n",
       "      <th>Total_expenditure</th>\n",
       "      <th>Diphtheria</th>\n",
       "      <th>HIV_AIDS</th>\n",
       "      <th>GDP</th>\n",
       "      <th>Population</th>\n",
       "      <th>thinness__1_19_years</th>\n",
       "      <th>thinness_5_9_years</th>\n",
       "      <th>Income_composition_of_resources</th>\n",
       "      <th>Schooling</th>\n",
       "    </tr>\n",
       "  </thead>\n",
       "  <tbody>\n",
       "    <tr>\n",
       "      <th>0</th>\n",
       "      <td>Afghanistan</td>\n",
       "      <td>2015</td>\n",
       "      <td>Developing</td>\n",
       "      <td>65.0</td>\n",
       "      <td>263.0</td>\n",
       "      <td>62</td>\n",
       "      <td>0.01</td>\n",
       "      <td>71.279624</td>\n",
       "      <td>65.0</td>\n",
       "      <td>1154</td>\n",
       "      <td>...</td>\n",
       "      <td>6.0</td>\n",
       "      <td>8.16</td>\n",
       "      <td>65.0</td>\n",
       "      <td>0.1</td>\n",
       "      <td>584.259210</td>\n",
       "      <td>33736494.0</td>\n",
       "      <td>17.2</td>\n",
       "      <td>17.3</td>\n",
       "      <td>0.479</td>\n",
       "      <td>10.1</td>\n",
       "    </tr>\n",
       "    <tr>\n",
       "      <th>1</th>\n",
       "      <td>Afghanistan</td>\n",
       "      <td>2014</td>\n",
       "      <td>Developing</td>\n",
       "      <td>59.9</td>\n",
       "      <td>271.0</td>\n",
       "      <td>64</td>\n",
       "      <td>0.01</td>\n",
       "      <td>73.523582</td>\n",
       "      <td>62.0</td>\n",
       "      <td>492</td>\n",
       "      <td>...</td>\n",
       "      <td>58.0</td>\n",
       "      <td>8.18</td>\n",
       "      <td>62.0</td>\n",
       "      <td>0.1</td>\n",
       "      <td>612.696514</td>\n",
       "      <td>327582.0</td>\n",
       "      <td>17.5</td>\n",
       "      <td>17.5</td>\n",
       "      <td>0.476</td>\n",
       "      <td>10.0</td>\n",
       "    </tr>\n",
       "    <tr>\n",
       "      <th>2</th>\n",
       "      <td>Afghanistan</td>\n",
       "      <td>2013</td>\n",
       "      <td>Developing</td>\n",
       "      <td>59.9</td>\n",
       "      <td>268.0</td>\n",
       "      <td>66</td>\n",
       "      <td>0.01</td>\n",
       "      <td>73.219243</td>\n",
       "      <td>64.0</td>\n",
       "      <td>430</td>\n",
       "      <td>...</td>\n",
       "      <td>62.0</td>\n",
       "      <td>8.13</td>\n",
       "      <td>64.0</td>\n",
       "      <td>0.1</td>\n",
       "      <td>631.744976</td>\n",
       "      <td>31731688.0</td>\n",
       "      <td>17.7</td>\n",
       "      <td>17.7</td>\n",
       "      <td>0.470</td>\n",
       "      <td>9.9</td>\n",
       "    </tr>\n",
       "    <tr>\n",
       "      <th>3</th>\n",
       "      <td>Afghanistan</td>\n",
       "      <td>2012</td>\n",
       "      <td>Developing</td>\n",
       "      <td>59.5</td>\n",
       "      <td>272.0</td>\n",
       "      <td>69</td>\n",
       "      <td>0.01</td>\n",
       "      <td>78.184215</td>\n",
       "      <td>67.0</td>\n",
       "      <td>2787</td>\n",
       "      <td>...</td>\n",
       "      <td>67.0</td>\n",
       "      <td>8.52</td>\n",
       "      <td>67.0</td>\n",
       "      <td>0.1</td>\n",
       "      <td>669.959000</td>\n",
       "      <td>3696958.0</td>\n",
       "      <td>17.9</td>\n",
       "      <td>18.0</td>\n",
       "      <td>0.463</td>\n",
       "      <td>9.8</td>\n",
       "    </tr>\n",
       "    <tr>\n",
       "      <th>4</th>\n",
       "      <td>Afghanistan</td>\n",
       "      <td>2011</td>\n",
       "      <td>Developing</td>\n",
       "      <td>59.2</td>\n",
       "      <td>275.0</td>\n",
       "      <td>71</td>\n",
       "      <td>0.01</td>\n",
       "      <td>7.097109</td>\n",
       "      <td>68.0</td>\n",
       "      <td>3013</td>\n",
       "      <td>...</td>\n",
       "      <td>68.0</td>\n",
       "      <td>7.87</td>\n",
       "      <td>68.0</td>\n",
       "      <td>0.1</td>\n",
       "      <td>63.537231</td>\n",
       "      <td>2978599.0</td>\n",
       "      <td>18.2</td>\n",
       "      <td>18.2</td>\n",
       "      <td>0.454</td>\n",
       "      <td>9.5</td>\n",
       "    </tr>\n",
       "    <tr>\n",
       "      <th>...</th>\n",
       "      <td>...</td>\n",
       "      <td>...</td>\n",
       "      <td>...</td>\n",
       "      <td>...</td>\n",
       "      <td>...</td>\n",
       "      <td>...</td>\n",
       "      <td>...</td>\n",
       "      <td>...</td>\n",
       "      <td>...</td>\n",
       "      <td>...</td>\n",
       "      <td>...</td>\n",
       "      <td>...</td>\n",
       "      <td>...</td>\n",
       "      <td>...</td>\n",
       "      <td>...</td>\n",
       "      <td>...</td>\n",
       "      <td>...</td>\n",
       "      <td>...</td>\n",
       "      <td>...</td>\n",
       "      <td>...</td>\n",
       "      <td>...</td>\n",
       "    </tr>\n",
       "    <tr>\n",
       "      <th>2933</th>\n",
       "      <td>Zimbabwe</td>\n",
       "      <td>2004</td>\n",
       "      <td>Developing</td>\n",
       "      <td>44.3</td>\n",
       "      <td>723.0</td>\n",
       "      <td>27</td>\n",
       "      <td>4.36</td>\n",
       "      <td>0.000000</td>\n",
       "      <td>68.0</td>\n",
       "      <td>31</td>\n",
       "      <td>...</td>\n",
       "      <td>67.0</td>\n",
       "      <td>7.13</td>\n",
       "      <td>65.0</td>\n",
       "      <td>33.6</td>\n",
       "      <td>454.366654</td>\n",
       "      <td>12777511.0</td>\n",
       "      <td>9.4</td>\n",
       "      <td>9.4</td>\n",
       "      <td>0.407</td>\n",
       "      <td>9.2</td>\n",
       "    </tr>\n",
       "    <tr>\n",
       "      <th>2934</th>\n",
       "      <td>Zimbabwe</td>\n",
       "      <td>2003</td>\n",
       "      <td>Developing</td>\n",
       "      <td>44.5</td>\n",
       "      <td>715.0</td>\n",
       "      <td>26</td>\n",
       "      <td>4.06</td>\n",
       "      <td>0.000000</td>\n",
       "      <td>7.0</td>\n",
       "      <td>998</td>\n",
       "      <td>...</td>\n",
       "      <td>7.0</td>\n",
       "      <td>6.52</td>\n",
       "      <td>68.0</td>\n",
       "      <td>36.7</td>\n",
       "      <td>453.351155</td>\n",
       "      <td>12633897.0</td>\n",
       "      <td>9.8</td>\n",
       "      <td>9.9</td>\n",
       "      <td>0.418</td>\n",
       "      <td>9.5</td>\n",
       "    </tr>\n",
       "    <tr>\n",
       "      <th>2935</th>\n",
       "      <td>Zimbabwe</td>\n",
       "      <td>2002</td>\n",
       "      <td>Developing</td>\n",
       "      <td>44.8</td>\n",
       "      <td>73.0</td>\n",
       "      <td>25</td>\n",
       "      <td>4.43</td>\n",
       "      <td>0.000000</td>\n",
       "      <td>73.0</td>\n",
       "      <td>304</td>\n",
       "      <td>...</td>\n",
       "      <td>73.0</td>\n",
       "      <td>6.53</td>\n",
       "      <td>71.0</td>\n",
       "      <td>39.8</td>\n",
       "      <td>57.348340</td>\n",
       "      <td>125525.0</td>\n",
       "      <td>1.2</td>\n",
       "      <td>1.3</td>\n",
       "      <td>0.427</td>\n",
       "      <td>10.0</td>\n",
       "    </tr>\n",
       "    <tr>\n",
       "      <th>2936</th>\n",
       "      <td>Zimbabwe</td>\n",
       "      <td>2001</td>\n",
       "      <td>Developing</td>\n",
       "      <td>45.3</td>\n",
       "      <td>686.0</td>\n",
       "      <td>25</td>\n",
       "      <td>1.72</td>\n",
       "      <td>0.000000</td>\n",
       "      <td>76.0</td>\n",
       "      <td>529</td>\n",
       "      <td>...</td>\n",
       "      <td>76.0</td>\n",
       "      <td>6.16</td>\n",
       "      <td>75.0</td>\n",
       "      <td>42.1</td>\n",
       "      <td>548.587312</td>\n",
       "      <td>12366165.0</td>\n",
       "      <td>1.6</td>\n",
       "      <td>1.7</td>\n",
       "      <td>0.427</td>\n",
       "      <td>9.8</td>\n",
       "    </tr>\n",
       "    <tr>\n",
       "      <th>2937</th>\n",
       "      <td>Zimbabwe</td>\n",
       "      <td>2000</td>\n",
       "      <td>Developing</td>\n",
       "      <td>46.0</td>\n",
       "      <td>665.0</td>\n",
       "      <td>24</td>\n",
       "      <td>1.68</td>\n",
       "      <td>0.000000</td>\n",
       "      <td>79.0</td>\n",
       "      <td>1483</td>\n",
       "      <td>...</td>\n",
       "      <td>78.0</td>\n",
       "      <td>7.10</td>\n",
       "      <td>78.0</td>\n",
       "      <td>43.5</td>\n",
       "      <td>547.358878</td>\n",
       "      <td>12222251.0</td>\n",
       "      <td>11.0</td>\n",
       "      <td>11.2</td>\n",
       "      <td>0.434</td>\n",
       "      <td>9.8</td>\n",
       "    </tr>\n",
       "  </tbody>\n",
       "</table>\n",
       "<p>2938 rows × 22 columns</p>\n",
       "</div>"
      ],
      "text/plain": [
       "          Country  Year      Status  Life_expectancy  Adult_Mortality   \n",
       "0     Afghanistan  2015  Developing             65.0            263.0  \\\n",
       "1     Afghanistan  2014  Developing             59.9            271.0   \n",
       "2     Afghanistan  2013  Developing             59.9            268.0   \n",
       "3     Afghanistan  2012  Developing             59.5            272.0   \n",
       "4     Afghanistan  2011  Developing             59.2            275.0   \n",
       "...           ...   ...         ...              ...              ...   \n",
       "2933     Zimbabwe  2004  Developing             44.3            723.0   \n",
       "2934     Zimbabwe  2003  Developing             44.5            715.0   \n",
       "2935     Zimbabwe  2002  Developing             44.8             73.0   \n",
       "2936     Zimbabwe  2001  Developing             45.3            686.0   \n",
       "2937     Zimbabwe  2000  Developing             46.0            665.0   \n",
       "\n",
       "      infant_deaths  Alcohol  percentage_expenditure  Hepatitis_B  Measles   \n",
       "0                62     0.01               71.279624         65.0     1154  \\\n",
       "1                64     0.01               73.523582         62.0      492   \n",
       "2                66     0.01               73.219243         64.0      430   \n",
       "3                69     0.01               78.184215         67.0     2787   \n",
       "4                71     0.01                7.097109         68.0     3013   \n",
       "...             ...      ...                     ...          ...      ...   \n",
       "2933             27     4.36                0.000000         68.0       31   \n",
       "2934             26     4.06                0.000000          7.0      998   \n",
       "2935             25     4.43                0.000000         73.0      304   \n",
       "2936             25     1.72                0.000000         76.0      529   \n",
       "2937             24     1.68                0.000000         79.0     1483   \n",
       "\n",
       "      ...  Polio  Total_expenditure  Diphtheria  HIV_AIDS         GDP   \n",
       "0     ...    6.0               8.16        65.0       0.1  584.259210  \\\n",
       "1     ...   58.0               8.18        62.0       0.1  612.696514   \n",
       "2     ...   62.0               8.13        64.0       0.1  631.744976   \n",
       "3     ...   67.0               8.52        67.0       0.1  669.959000   \n",
       "4     ...   68.0               7.87        68.0       0.1   63.537231   \n",
       "...   ...    ...                ...         ...       ...         ...   \n",
       "2933  ...   67.0               7.13        65.0      33.6  454.366654   \n",
       "2934  ...    7.0               6.52        68.0      36.7  453.351155   \n",
       "2935  ...   73.0               6.53        71.0      39.8   57.348340   \n",
       "2936  ...   76.0               6.16        75.0      42.1  548.587312   \n",
       "2937  ...   78.0               7.10        78.0      43.5  547.358878   \n",
       "\n",
       "      Population  thinness__1_19_years  thinness_5_9_years   \n",
       "0     33736494.0                  17.2                17.3  \\\n",
       "1       327582.0                  17.5                17.5   \n",
       "2     31731688.0                  17.7                17.7   \n",
       "3      3696958.0                  17.9                18.0   \n",
       "4      2978599.0                  18.2                18.2   \n",
       "...          ...                   ...                 ...   \n",
       "2933  12777511.0                   9.4                 9.4   \n",
       "2934  12633897.0                   9.8                 9.9   \n",
       "2935    125525.0                   1.2                 1.3   \n",
       "2936  12366165.0                   1.6                 1.7   \n",
       "2937  12222251.0                  11.0                11.2   \n",
       "\n",
       "      Income_composition_of_resources  Schooling  \n",
       "0                               0.479       10.1  \n",
       "1                               0.476       10.0  \n",
       "2                               0.470        9.9  \n",
       "3                               0.463        9.8  \n",
       "4                               0.454        9.5  \n",
       "...                               ...        ...  \n",
       "2933                            0.407        9.2  \n",
       "2934                            0.418        9.5  \n",
       "2935                            0.427       10.0  \n",
       "2936                            0.427        9.8  \n",
       "2937                            0.434        9.8  \n",
       "\n",
       "[2938 rows x 22 columns]"
      ]
     },
     "execution_count": 54,
     "metadata": {},
     "output_type": "execute_result"
    }
   ],
   "source": [
    "df.columns=col_list1\n",
    "df"
   ]
  },
  {
   "cell_type": "code",
   "execution_count": 55,
   "id": "4c2722b8",
   "metadata": {},
   "outputs": [
    {
     "name": "stdout",
     "output_type": "stream",
     "text": [
      "<class 'pandas.core.frame.DataFrame'>\n",
      "RangeIndex: 2938 entries, 0 to 2937\n",
      "Data columns (total 22 columns):\n",
      " #   Column                           Non-Null Count  Dtype  \n",
      "---  ------                           --------------  -----  \n",
      " 0   Country                          2938 non-null   object \n",
      " 1   Year                             2938 non-null   int64  \n",
      " 2   Status                           2938 non-null   object \n",
      " 3   Life_expectancy                  2928 non-null   float64\n",
      " 4   Adult_Mortality                  2928 non-null   float64\n",
      " 5   infant_deaths                    2938 non-null   int64  \n",
      " 6   Alcohol                          2744 non-null   float64\n",
      " 7   percentage_expenditure           2938 non-null   float64\n",
      " 8   Hepatitis_B                      2385 non-null   float64\n",
      " 9   Measles                          2938 non-null   int64  \n",
      " 10  BMI                              2904 non-null   float64\n",
      " 11  under_five_deaths                2938 non-null   int64  \n",
      " 12  Polio                            2919 non-null   float64\n",
      " 13  Total_expenditure                2712 non-null   float64\n",
      " 14  Diphtheria                       2919 non-null   float64\n",
      " 15  HIV_AIDS                         2938 non-null   float64\n",
      " 16  GDP                              2490 non-null   float64\n",
      " 17  Population                       2286 non-null   float64\n",
      " 18  thinness__1_19_years             2904 non-null   float64\n",
      " 19  thinness_5_9_years               2904 non-null   float64\n",
      " 20  Income_composition_of_resources  2771 non-null   float64\n",
      " 21  Schooling                        2775 non-null   float64\n",
      "dtypes: float64(16), int64(4), object(2)\n",
      "memory usage: 505.1+ KB\n"
     ]
    }
   ],
   "source": [
    "df.info()"
   ]
  },
  {
   "cell_type": "code",
   "execution_count": 13,
   "id": "be2faa6c",
   "metadata": {},
   "outputs": [
    {
     "data": {
      "text/plain": [
       "array(['Developing', 'Developed'], dtype=object)"
      ]
     },
     "execution_count": 13,
     "metadata": {},
     "output_type": "execute_result"
    }
   ],
   "source": [
    "df['Status'].unique()"
   ]
  },
  {
   "cell_type": "code",
   "execution_count": 56,
   "id": "12b12d31",
   "metadata": {},
   "outputs": [
    {
     "data": {
      "text/plain": [
       "0       1\n",
       "1       1\n",
       "2       1\n",
       "3       1\n",
       "4       1\n",
       "       ..\n",
       "2933    1\n",
       "2934    1\n",
       "2935    1\n",
       "2936    1\n",
       "2937    1\n",
       "Name: Status, Length: 2938, dtype: int64"
      ]
     },
     "execution_count": 56,
     "metadata": {},
     "output_type": "execute_result"
    }
   ],
   "source": [
    "df['Status'].replace({'Developing':1, 'Developed':2},inplace=True)\n",
    "df['Status']"
   ]
  },
  {
   "cell_type": "code",
   "execution_count": 57,
   "id": "37c39245",
   "metadata": {},
   "outputs": [
    {
     "data": {
      "text/plain": [
       "10"
      ]
     },
     "execution_count": 57,
     "metadata": {},
     "output_type": "execute_result"
    }
   ],
   "source": [
    "df['Life_expectancy'].isna().sum()"
   ]
  },
  {
   "cell_type": "code",
   "execution_count": 58,
   "id": "5fd83a03",
   "metadata": {},
   "outputs": [],
   "source": [
    "df['Life_expectancy'].fillna(df['Life_expectancy'].mean(),inplace=True)"
   ]
  },
  {
   "cell_type": "code",
   "execution_count": 59,
   "id": "fbf5b059",
   "metadata": {},
   "outputs": [
    {
     "data": {
      "text/plain": [
       "10"
      ]
     },
     "execution_count": 59,
     "metadata": {},
     "output_type": "execute_result"
    }
   ],
   "source": [
    "df['Adult_Mortality'].isna().sum()"
   ]
  },
  {
   "cell_type": "code",
   "execution_count": 60,
   "id": "9e1c4c91",
   "metadata": {},
   "outputs": [
    {
     "data": {
      "text/plain": [
       "<Axes: >"
      ]
     },
     "execution_count": 60,
     "metadata": {},
     "output_type": "execute_result"
    },
    {
     "data": {
      "image/png": "[encoded data removed]",
      "text/plain": [
       "<Figure size 640x480 with 1 Axes>"
      ]
     },
     "metadata": {},
     "output_type": "display_data"
    }
   ],
   "source": [
    "sns.boxplot(df['Adult_Mortality'])"
   ]
  },
  {
   "cell_type": "code",
   "execution_count": 61,
   "id": "1a228290",
   "metadata": {},
   "outputs": [],
   "source": [
    "df['Adult_Mortality'].fillna(df['Adult_Mortality'].mean(),inplace=True)"
   ]
  },
  {
   "cell_type": "code",
   "execution_count": 62,
   "id": "8eb93d22",
   "metadata": {},
   "outputs": [
    {
     "data": {
      "text/plain": [
       "194"
      ]
     },
     "execution_count": 62,
     "metadata": {},
     "output_type": "execute_result"
    }
   ],
   "source": [
    "df['Alcohol'].isna().sum()"
   ]
  },
  {
   "cell_type": "code",
   "execution_count": 63,
   "id": "8e06d63e",
   "metadata": {},
   "outputs": [
    {
     "data": {
      "text/plain": [
       "<Axes: >"
      ]
     },
     "execution_count": 63,
     "metadata": {},
     "output_type": "execute_result"
    },
    {
     "data": {
      "image/png": "[encoded data removed]",
      "text/plain": [
       "<Figure size 640x480 with 1 Axes>"
      ]
     },
     "metadata": {},
     "output_type": "display_data"
    }
   ],
   "source": [
    "sns.boxplot(df['Alcohol'])"
   ]
  },
  {
   "cell_type": "code",
   "execution_count": 64,
   "id": "0c7d6ec5",
   "metadata": {},
   "outputs": [],
   "source": [
    "df['Alcohol'].fillna(df['Alcohol'].mean(),inplace=True)"
   ]
  },
  {
   "cell_type": "code",
   "execution_count": 65,
   "id": "555db853",
   "metadata": {},
   "outputs": [
    {
     "data": {
      "text/plain": [
       "553"
      ]
     },
     "execution_count": 65,
     "metadata": {},
     "output_type": "execute_result"
    }
   ],
   "source": [
    "df['Hepatitis_B'].isna().sum()"
   ]
  },
  {
   "cell_type": "code",
   "execution_count": 66,
   "id": "8411e7cb",
   "metadata": {},
   "outputs": [
    {
     "data": {
      "text/plain": [
       "Hepatitis_B\n",
       "99.0    240\n",
       "98.0    210\n",
       "96.0    167\n",
       "97.0    155\n",
       "95.0    149\n",
       "       ... \n",
       "15.0      1\n",
       "12.0      1\n",
       "32.0      1\n",
       "11.0      1\n",
       "19.0      1\n",
       "Name: count, Length: 87, dtype: int64"
      ]
     },
     "execution_count": 66,
     "metadata": {},
     "output_type": "execute_result"
    }
   ],
   "source": [
    "df['Hepatitis_B'].value_counts()"
   ]
  },
  {
   "cell_type": "code",
   "execution_count": 67,
   "id": "f55fd76c",
   "metadata": {},
   "outputs": [],
   "source": [
    "df['Hepatitis_B'].fillna(df['Hepatitis_B'].median(),inplace=True)"
   ]
  },
  {
   "cell_type": "code",
   "execution_count": 68,
   "id": "7d5cee5a",
   "metadata": {},
   "outputs": [
    {
     "data": {
      "text/plain": [
       "34"
      ]
     },
     "execution_count": 68,
     "metadata": {},
     "output_type": "execute_result"
    }
   ],
   "source": [
    "df['BMI'].isna().sum()"
   ]
  },
  {
   "cell_type": "code",
   "execution_count": 69,
   "id": "9bf7aeac",
   "metadata": {},
   "outputs": [
    {
     "data": {
      "text/plain": [
       "BMI\n",
       "58.5    18\n",
       "55.8    16\n",
       "57.0    16\n",
       "54.2    15\n",
       "59.9    15\n",
       "        ..\n",
       "7.6      1\n",
       "72.8     1\n",
       "74.1     1\n",
       "74.6     1\n",
       "33.9     1\n",
       "Name: count, Length: 608, dtype: int64"
      ]
     },
     "execution_count": 69,
     "metadata": {},
     "output_type": "execute_result"
    }
   ],
   "source": [
    "df['BMI'].value_counts()"
   ]
  },
  {
   "cell_type": "code",
   "execution_count": 70,
   "id": "e419fe79",
   "metadata": {},
   "outputs": [
    {
     "data": {
      "text/plain": [
       "<Axes: >"
      ]
     },
     "execution_count": 70,
     "metadata": {},
     "output_type": "execute_result"
    },
    {
     "data": {
      "image/png": "[encoded data removed]",
      "text/plain": [
       "<Figure size 640x480 with 1 Axes>"
      ]
     },
     "metadata": {},
     "output_type": "display_data"
    }
   ],
   "source": [
    "sns.boxplot(df['BMI'])"
   ]
  },
  {
   "cell_type": "code",
   "execution_count": 71,
   "id": "1e9def53",
   "metadata": {},
   "outputs": [],
   "source": [
    "df['BMI'].fillna(df['BMI'].median(),inplace=True)"
   ]
  },
  {
   "cell_type": "code",
   "execution_count": 72,
   "id": "12752b4a",
   "metadata": {},
   "outputs": [
    {
     "data": {
      "text/plain": [
       "19"
      ]
     },
     "execution_count": 72,
     "metadata": {},
     "output_type": "execute_result"
    }
   ],
   "source": [
    "df['Polio'].isna().sum()"
   ]
  },
  {
   "cell_type": "code",
   "execution_count": 73,
   "id": "d59f837e",
   "metadata": {},
   "outputs": [
    {
     "data": {
      "text/plain": [
       "<Axes: >"
      ]
     },
     "execution_count": 73,
     "metadata": {},
     "output_type": "execute_result"
    },
    {
     "data": {
      "image/png": "[encoded data removed]",
      "text/plain": [
       "<Figure size 640x480 with 1 Axes>"
      ]
     },
     "metadata": {},
     "output_type": "display_data"
    }
   ],
   "source": [
    "sns.boxplot(df['Polio'])"
   ]
  },
  {
   "cell_type": "code",
   "execution_count": 74,
   "id": "272d632f",
   "metadata": {},
   "outputs": [],
   "source": [
    "df['Polio'].fillna(df['Polio'].median(),inplace=True)"
   ]
  },
  {
   "cell_type": "code",
   "execution_count": 75,
   "id": "a09bf0fc",
   "metadata": {},
   "outputs": [
    {
     "data": {
      "text/plain": [
       "226"
      ]
     },
     "execution_count": 75,
     "metadata": {},
     "output_type": "execute_result"
    }
   ],
   "source": [
    "df['Total_expenditure'].isna().sum()"
   ]
  },
  {
   "cell_type": "code",
   "execution_count": 76,
   "id": "600f1177",
   "metadata": {},
   "outputs": [],
   "source": [
    "df['Total_expenditure'].fillna(df['Total_expenditure'].mean(),inplace=True)"
   ]
  },
  {
   "cell_type": "code",
   "execution_count": 77,
   "id": "9d92c290",
   "metadata": {},
   "outputs": [
    {
     "data": {
      "text/plain": [
       "Diphtheria\n",
       "99.0    350\n",
       "98.0    254\n",
       "97.0    205\n",
       "96.0    201\n",
       "95.0    200\n",
       "       ... \n",
       "16.0      1\n",
       "56.0      1\n",
       "21.0      1\n",
       "19.0      1\n",
       "27.0      1\n",
       "Name: count, Length: 81, dtype: int64"
      ]
     },
     "execution_count": 77,
     "metadata": {},
     "output_type": "execute_result"
    }
   ],
   "source": [
    "df['Diphtheria'].value_counts()"
   ]
  },
  {
   "cell_type": "code",
   "execution_count": 78,
   "id": "5e294fd0",
   "metadata": {},
   "outputs": [
    {
     "data": {
      "text/plain": [
       "<Axes: >"
      ]
     },
     "execution_count": 78,
     "metadata": {},
     "output_type": "execute_result"
    },
    {
     "data": {
      "image/png": "[encoded data removed]",
      "text/plain": [
       "<Figure size 640x480 with 1 Axes>"
      ]
     },
     "metadata": {},
     "output_type": "display_data"
    }
   ],
   "source": [
    "sns.boxplot(df['Diphtheria'])"
   ]
  },
  {
   "cell_type": "code",
   "execution_count": 79,
   "id": "4a03af0f",
   "metadata": {},
   "outputs": [],
   "source": [
    "df['Diphtheria'].fillna(df['Diphtheria'].mean(),inplace=True)"
   ]
  },
  {
   "cell_type": "code",
   "execution_count": 80,
   "id": "65384324",
   "metadata": {},
   "outputs": [
    {
     "data": {
      "text/plain": [
       "GDP\n",
       "584.259210     1\n",
       "354.818600     1\n",
       "358.997310     1\n",
       "43.646498      1\n",
       "416.148380     1\n",
       "              ..\n",
       "4274.376857    1\n",
       "4142.869175    1\n",
       "3725.632210    1\n",
       "2964.477340    1\n",
       "547.358878     1\n",
       "Name: count, Length: 2490, dtype: int64"
      ]
     },
     "execution_count": 80,
     "metadata": {},
     "output_type": "execute_result"
    }
   ],
   "source": [
    "df['GDP'].value_counts()"
   ]
  },
  {
   "cell_type": "code",
   "execution_count": 81,
   "id": "033a84e3",
   "metadata": {},
   "outputs": [
    {
     "data": {
      "text/plain": [
       "<Axes: >"
      ]
     },
     "execution_count": 81,
     "metadata": {},
     "output_type": "execute_result"
    },
    {
     "data": {
      "image/png": "[encoded data removed]",
      "text/plain": [
       "<Figure size 640x480 with 1 Axes>"
      ]
     },
     "metadata": {},
     "output_type": "display_data"
    }
   ],
   "source": [
    "sns.boxplot(df['GDP'])"
   ]
  },
  {
   "cell_type": "code",
   "execution_count": 82,
   "id": "649864ab",
   "metadata": {},
   "outputs": [],
   "source": [
    "df['GDP'].fillna(df['GDP'].median(),inplace=True)"
   ]
  },
  {
   "cell_type": "code",
   "execution_count": 83,
   "id": "48e6c7f0",
   "metadata": {},
   "outputs": [],
   "source": [
    "df['Population'].fillna(df['Population'].median(),inplace=True)"
   ]
  },
  {
   "cell_type": "code",
   "execution_count": 84,
   "id": "f2554e56",
   "metadata": {},
   "outputs": [
    {
     "data": {
      "text/plain": [
       "thinness__1_19_years\n",
       "1.0     74\n",
       "1.9     65\n",
       "0.8     64\n",
       "0.7     63\n",
       "1.2     62\n",
       "        ..\n",
       "16.5     1\n",
       "16.7     1\n",
       "16.9     1\n",
       "17.1     1\n",
       "15.8     1\n",
       "Name: count, Length: 200, dtype: int64"
      ]
     },
     "execution_count": 84,
     "metadata": {},
     "output_type": "execute_result"
    }
   ],
   "source": [
    "df['thinness__1_19_years'].value_counts()"
   ]
  },
  {
   "cell_type": "code",
   "execution_count": 85,
   "id": "db6560e4",
   "metadata": {},
   "outputs": [
    {
     "data": {
      "text/plain": [
       "<Axes: >"
      ]
     },
     "execution_count": 85,
     "metadata": {},
     "output_type": "execute_result"
    },
    {
     "data": {
      "image/png": "[encoded data removed]",
      "text/plain": [
       "<Figure size 640x480 with 1 Axes>"
      ]
     },
     "metadata": {},
     "output_type": "display_data"
    }
   ],
   "source": [
    "sns.boxplot(df['thinness__1_19_years'])"
   ]
  },
  {
   "cell_type": "code",
   "execution_count": 86,
   "id": "8ab02d8b",
   "metadata": {},
   "outputs": [],
   "source": [
    "df['thinness__1_19_years'].fillna(df['thinness__1_19_years'].median(),inplace=True)"
   ]
  },
  {
   "cell_type": "code",
   "execution_count": 87,
   "id": "363c0a37",
   "metadata": {},
   "outputs": [],
   "source": [
    "df['thinness_5_9_years'].fillna(df['thinness_5_9_years'].median(),inplace=True)"
   ]
  },
  {
   "cell_type": "code",
   "execution_count": 88,
   "id": "26d326b4",
   "metadata": {},
   "outputs": [],
   "source": [
    "df['Income_composition_of_resources'].fillna(df['Income_composition_of_resources'].median(),inplace=True)"
   ]
  },
  {
   "cell_type": "code",
   "execution_count": 89,
   "id": "9273cabf",
   "metadata": {},
   "outputs": [
    {
     "data": {
      "text/plain": [
       "<Axes: >"
      ]
     },
     "execution_count": 89,
     "metadata": {},
     "output_type": "execute_result"
    },
    {
     "data": {
      "image/png": "[encoded data removed]",
      "text/plain": [
       "<Figure size 640x480 with 1 Axes>"
      ]
     },
     "metadata": {},
     "output_type": "display_data"
    }
   ],
   "source": [
    "sns.boxplot(df['Schooling'])"
   ]
  },
  {
   "cell_type": "code",
   "execution_count": 90,
   "id": "d3b1e3f0",
   "metadata": {},
   "outputs": [],
   "source": [
    "df['Schooling'].fillna(df['Schooling'].mean(),inplace=True)"
   ]
  },
  {
   "cell_type": "markdown",
   "id": "0b916f83",
   "metadata": {},
   "source": [
    "### Feature Selection"
   ]
  },
  {
   "cell_type": "code",
   "execution_count": 92,
   "id": "9f609fb5",
   "metadata": {},
   "outputs": [],
   "source": [
    "df.drop('Country', axis=1, inplace=True)"
   ]
  },
  {
   "cell_type": "code",
   "execution_count": 93,
   "id": "cee817d5",
   "metadata": {},
   "outputs": [
    {
     "name": "stdout",
     "output_type": "stream",
     "text": [
      "<class 'pandas.core.frame.DataFrame'>\n",
      "RangeIndex: 2938 entries, 0 to 2937\n",
      "Data columns (total 21 columns):\n",
      " #   Column                           Non-Null Count  Dtype  \n",
      "---  ------                           --------------  -----  \n",
      " 0   Year                             2938 non-null   int64  \n",
      " 1   Status                           2938 non-null   int64  \n",
      " 2   Life_expectancy                  2938 non-null   float64\n",
      " 3   Adult_Mortality                  2938 non-null   float64\n",
      " 4   infant_deaths                    2938 non-null   int64  \n",
      " 5   Alcohol                          2938 non-null   float64\n",
      " 6   percentage_expenditure           2938 non-null   float64\n",
      " 7   Hepatitis_B                      2938 non-null   float64\n",
      " 8   Measles                          2938 non-null   int64  \n",
      " 9   BMI                              2938 non-null   float64\n",
      " 10  under_five_deaths                2938 non-null   int64  \n",
      " 11  Polio                            2938 non-null   float64\n",
      " 12  Total_expenditure                2938 non-null   float64\n",
      " 13  Diphtheria                       2938 non-null   float64\n",
      " 14  HIV_AIDS                         2938 non-null   float64\n",
      " 15  GDP                              2938 non-null   float64\n",
      " 16  Population                       2938 non-null   float64\n",
      " 17  thinness__1_19_years             2938 non-null   float64\n",
      " 18  thinness_5_9_years               2938 non-null   float64\n",
      " 19  Income_composition_of_resources  2938 non-null   float64\n",
      " 20  Schooling                        2938 non-null   float64\n",
      "dtypes: float64(16), int64(5)\n",
      "memory usage: 482.1 KB\n"
     ]
    }
   ],
   "source": [
    "df.info()"
   ]
  },
  {
   "cell_type": "code",
   "execution_count": 96,
   "id": "04ab2ea1",
   "metadata": {},
   "outputs": [
    {
     "data": {
      "text/html": [
       "<div>\n",
       "<style scoped>\n",
       "    .dataframe tbody tr th:only-of-type {\n",
       "        vertical-align: middle;\n",
       "    }\n",
       "\n",
       "    .dataframe tbody tr th {\n",
       "        vertical-align: top;\n",
       "    }\n",
       "\n",
       "    .dataframe thead th {\n",
       "        text-align: right;\n",
       "    }\n",
       "</style>\n",
       "<table border=\"1\" class=\"dataframe\">\n",
       "  <thead>\n",
       "    <tr style=\"text-align: right;\">\n",
       "      <th></th>\n",
       "      <th>Year</th>\n",
       "      <th>Status</th>\n",
       "      <th>Life_expectancy</th>\n",
       "      <th>Adult_Mortality</th>\n",
       "      <th>infant_deaths</th>\n",
       "      <th>Alcohol</th>\n",
       "      <th>percentage_expenditure</th>\n",
       "      <th>Hepatitis_B</th>\n",
       "      <th>Measles</th>\n",
       "      <th>BMI</th>\n",
       "      <th>...</th>\n",
       "      <th>Polio</th>\n",
       "      <th>Total_expenditure</th>\n",
       "      <th>Diphtheria</th>\n",
       "      <th>HIV_AIDS</th>\n",
       "      <th>GDP</th>\n",
       "      <th>Population</th>\n",
       "      <th>thinness__1_19_years</th>\n",
       "      <th>thinness_5_9_years</th>\n",
       "      <th>Income_composition_of_resources</th>\n",
       "      <th>Schooling</th>\n",
       "    </tr>\n",
       "  </thead>\n",
       "  <tbody>\n",
       "    <tr>\n",
       "      <th>Life_expectancy</th>\n",
       "      <td>0.169623</td>\n",
       "      <td>0.481962</td>\n",
       "      <td>1.0</td>\n",
       "      <td>-0.696359</td>\n",
       "      <td>-0.196535</td>\n",
       "      <td>0.391598</td>\n",
       "      <td>0.381791</td>\n",
       "      <td>0.170555</td>\n",
       "      <td>-0.157574</td>\n",
       "      <td>0.555653</td>\n",
       "      <td>...</td>\n",
       "      <td>0.458449</td>\n",
       "      <td>0.207981</td>\n",
       "      <td>0.475418</td>\n",
       "      <td>-0.556457</td>\n",
       "      <td>0.430895</td>\n",
       "      <td>-0.028845</td>\n",
       "      <td>-0.467267</td>\n",
       "      <td>-0.461739</td>\n",
       "      <td>0.688425</td>\n",
       "      <td>0.715066</td>\n",
       "    </tr>\n",
       "  </tbody>\n",
       "</table>\n",
       "<p>1 rows × 21 columns</p>\n",
       "</div>"
      ],
      "text/plain": [
       "                     Year    Status  Life_expectancy  Adult_Mortality   \n",
       "Life_expectancy  0.169623  0.481962              1.0        -0.696359  \\\n",
       "\n",
       "                 infant_deaths   Alcohol  percentage_expenditure  Hepatitis_B   \n",
       "Life_expectancy      -0.196535  0.391598                0.381791     0.170555  \\\n",
       "\n",
       "                  Measles       BMI  ...     Polio  Total_expenditure   \n",
       "Life_expectancy -0.157574  0.555653  ...  0.458449           0.207981  \\\n",
       "\n",
       "                 Diphtheria  HIV_AIDS       GDP  Population   \n",
       "Life_expectancy    0.475418 -0.556457  0.430895   -0.028845  \\\n",
       "\n",
       "                 thinness__1_19_years  thinness_5_9_years   \n",
       "Life_expectancy             -0.467267           -0.461739  \\\n",
       "\n",
       "                 Income_composition_of_resources  Schooling  \n",
       "Life_expectancy                         0.688425   0.715066  \n",
       "\n",
       "[1 rows x 21 columns]"
      ]
     },
     "execution_count": 96,
     "metadata": {},
     "output_type": "execute_result"
    }
   ],
   "source": [
    "df.corr().iloc[2:3,:]"
   ]
  },
  {
   "cell_type": "code",
   "execution_count": 100,
   "id": "c80076f5",
   "metadata": {},
   "outputs": [
    {
     "data": {
      "text/plain": [
       "<Axes: >"
      ]
     },
     "execution_count": 100,
     "metadata": {},
     "output_type": "execute_result"
    },
    {
     "data": {
      "image/png": "[encoded data removed]",
      "text/plain": [
       "<Figure size 2000x100 with 2 Axes>"
      ]
     },
     "metadata": {},
     "output_type": "display_data"
    }
   ],
   "source": [
    "plt.figure(figsize=(20,1))\n",
    "sns.heatmap(df.corr().iloc[2:3,:],annot=True)"
   ]
  },
  {
   "cell_type": "code",
   "execution_count": 102,
   "id": "030686ae",
   "metadata": {},
   "outputs": [
    {
     "data": {
      "text/html": [
       "<div>\n",
       "<style scoped>\n",
       "    .dataframe tbody tr th:only-of-type {\n",
       "        vertical-align: middle;\n",
       "    }\n",
       "\n",
       "    .dataframe tbody tr th {\n",
       "        vertical-align: top;\n",
       "    }\n",
       "\n",
       "    .dataframe thead th {\n",
       "        text-align: right;\n",
       "    }\n",
       "</style>\n",
       "<table border=\"1\" class=\"dataframe\">\n",
       "  <thead>\n",
       "    <tr style=\"text-align: right;\">\n",
       "      <th></th>\n",
       "      <th>Year</th>\n",
       "      <th>Status</th>\n",
       "      <th>Adult_Mortality</th>\n",
       "      <th>infant_deaths</th>\n",
       "      <th>Alcohol</th>\n",
       "      <th>percentage_expenditure</th>\n",
       "      <th>Hepatitis_B</th>\n",
       "      <th>Measles</th>\n",
       "      <th>BMI</th>\n",
       "      <th>under_five_deaths</th>\n",
       "      <th>Polio</th>\n",
       "      <th>Total_expenditure</th>\n",
       "      <th>Diphtheria</th>\n",
       "      <th>HIV_AIDS</th>\n",
       "      <th>GDP</th>\n",
       "      <th>Population</th>\n",
       "      <th>thinness__1_19_years</th>\n",
       "      <th>thinness_5_9_years</th>\n",
       "      <th>Income_composition_of_resources</th>\n",
       "      <th>Schooling</th>\n",
       "    </tr>\n",
       "  </thead>\n",
       "  <tbody>\n",
       "    <tr>\n",
       "      <th>0</th>\n",
       "      <td>2015</td>\n",
       "      <td>1</td>\n",
       "      <td>263.0</td>\n",
       "      <td>62</td>\n",
       "      <td>0.01</td>\n",
       "      <td>71.279624</td>\n",
       "      <td>65.0</td>\n",
       "      <td>1154</td>\n",
       "      <td>19.1</td>\n",
       "      <td>83</td>\n",
       "      <td>6.0</td>\n",
       "      <td>8.16</td>\n",
       "      <td>65.0</td>\n",
       "      <td>0.1</td>\n",
       "      <td>584.259210</td>\n",
       "      <td>33736494.0</td>\n",
       "      <td>17.2</td>\n",
       "      <td>17.3</td>\n",
       "      <td>0.479</td>\n",
       "      <td>10.1</td>\n",
       "    </tr>\n",
       "    <tr>\n",
       "      <th>1</th>\n",
       "      <td>2014</td>\n",
       "      <td>1</td>\n",
       "      <td>271.0</td>\n",
       "      <td>64</td>\n",
       "      <td>0.01</td>\n",
       "      <td>73.523582</td>\n",
       "      <td>62.0</td>\n",
       "      <td>492</td>\n",
       "      <td>18.6</td>\n",
       "      <td>86</td>\n",
       "      <td>58.0</td>\n",
       "      <td>8.18</td>\n",
       "      <td>62.0</td>\n",
       "      <td>0.1</td>\n",
       "      <td>612.696514</td>\n",
       "      <td>327582.0</td>\n",
       "      <td>17.5</td>\n",
       "      <td>17.5</td>\n",
       "      <td>0.476</td>\n",
       "      <td>10.0</td>\n",
       "    </tr>\n",
       "    <tr>\n",
       "      <th>2</th>\n",
       "      <td>2013</td>\n",
       "      <td>1</td>\n",
       "      <td>268.0</td>\n",
       "      <td>66</td>\n",
       "      <td>0.01</td>\n",
       "      <td>73.219243</td>\n",
       "      <td>64.0</td>\n",
       "      <td>430</td>\n",
       "      <td>18.1</td>\n",
       "      <td>89</td>\n",
       "      <td>62.0</td>\n",
       "      <td>8.13</td>\n",
       "      <td>64.0</td>\n",
       "      <td>0.1</td>\n",
       "      <td>631.744976</td>\n",
       "      <td>31731688.0</td>\n",
       "      <td>17.7</td>\n",
       "      <td>17.7</td>\n",
       "      <td>0.470</td>\n",
       "      <td>9.9</td>\n",
       "    </tr>\n",
       "    <tr>\n",
       "      <th>3</th>\n",
       "      <td>2012</td>\n",
       "      <td>1</td>\n",
       "      <td>272.0</td>\n",
       "      <td>69</td>\n",
       "      <td>0.01</td>\n",
       "      <td>78.184215</td>\n",
       "      <td>67.0</td>\n",
       "      <td>2787</td>\n",
       "      <td>17.6</td>\n",
       "      <td>93</td>\n",
       "      <td>67.0</td>\n",
       "      <td>8.52</td>\n",
       "      <td>67.0</td>\n",
       "      <td>0.1</td>\n",
       "      <td>669.959000</td>\n",
       "      <td>3696958.0</td>\n",
       "      <td>17.9</td>\n",
       "      <td>18.0</td>\n",
       "      <td>0.463</td>\n",
       "      <td>9.8</td>\n",
       "    </tr>\n",
       "    <tr>\n",
       "      <th>4</th>\n",
       "      <td>2011</td>\n",
       "      <td>1</td>\n",
       "      <td>275.0</td>\n",
       "      <td>71</td>\n",
       "      <td>0.01</td>\n",
       "      <td>7.097109</td>\n",
       "      <td>68.0</td>\n",
       "      <td>3013</td>\n",
       "      <td>17.2</td>\n",
       "      <td>97</td>\n",
       "      <td>68.0</td>\n",
       "      <td>7.87</td>\n",
       "      <td>68.0</td>\n",
       "      <td>0.1</td>\n",
       "      <td>63.537231</td>\n",
       "      <td>2978599.0</td>\n",
       "      <td>18.2</td>\n",
       "      <td>18.2</td>\n",
       "      <td>0.454</td>\n",
       "      <td>9.5</td>\n",
       "    </tr>\n",
       "    <tr>\n",
       "      <th>...</th>\n",
       "      <td>...</td>\n",
       "      <td>...</td>\n",
       "      <td>...</td>\n",
       "      <td>...</td>\n",
       "      <td>...</td>\n",
       "      <td>...</td>\n",
       "      <td>...</td>\n",
       "      <td>...</td>\n",
       "      <td>...</td>\n",
       "      <td>...</td>\n",
       "      <td>...</td>\n",
       "      <td>...</td>\n",
       "      <td>...</td>\n",
       "      <td>...</td>\n",
       "      <td>...</td>\n",
       "      <td>...</td>\n",
       "      <td>...</td>\n",
       "      <td>...</td>\n",
       "      <td>...</td>\n",
       "      <td>...</td>\n",
       "    </tr>\n",
       "    <tr>\n",
       "      <th>2933</th>\n",
       "      <td>2004</td>\n",
       "      <td>1</td>\n",
       "      <td>723.0</td>\n",
       "      <td>27</td>\n",
       "      <td>4.36</td>\n",
       "      <td>0.000000</td>\n",
       "      <td>68.0</td>\n",
       "      <td>31</td>\n",
       "      <td>27.1</td>\n",
       "      <td>42</td>\n",
       "      <td>67.0</td>\n",
       "      <td>7.13</td>\n",
       "      <td>65.0</td>\n",
       "      <td>33.6</td>\n",
       "      <td>454.366654</td>\n",
       "      <td>12777511.0</td>\n",
       "      <td>9.4</td>\n",
       "      <td>9.4</td>\n",
       "      <td>0.407</td>\n",
       "      <td>9.2</td>\n",
       "    </tr>\n",
       "    <tr>\n",
       "      <th>2934</th>\n",
       "      <td>2003</td>\n",
       "      <td>1</td>\n",
       "      <td>715.0</td>\n",
       "      <td>26</td>\n",
       "      <td>4.06</td>\n",
       "      <td>0.000000</td>\n",
       "      <td>7.0</td>\n",
       "      <td>998</td>\n",
       "      <td>26.7</td>\n",
       "      <td>41</td>\n",
       "      <td>7.0</td>\n",
       "      <td>6.52</td>\n",
       "      <td>68.0</td>\n",
       "      <td>36.7</td>\n",
       "      <td>453.351155</td>\n",
       "      <td>12633897.0</td>\n",
       "      <td>9.8</td>\n",
       "      <td>9.9</td>\n",
       "      <td>0.418</td>\n",
       "      <td>9.5</td>\n",
       "    </tr>\n",
       "    <tr>\n",
       "      <th>2935</th>\n",
       "      <td>2002</td>\n",
       "      <td>1</td>\n",
       "      <td>73.0</td>\n",
       "      <td>25</td>\n",
       "      <td>4.43</td>\n",
       "      <td>0.000000</td>\n",
       "      <td>73.0</td>\n",
       "      <td>304</td>\n",
       "      <td>26.3</td>\n",
       "      <td>40</td>\n",
       "      <td>73.0</td>\n",
       "      <td>6.53</td>\n",
       "      <td>71.0</td>\n",
       "      <td>39.8</td>\n",
       "      <td>57.348340</td>\n",
       "      <td>125525.0</td>\n",
       "      <td>1.2</td>\n",
       "      <td>1.3</td>\n",
       "      <td>0.427</td>\n",
       "      <td>10.0</td>\n",
       "    </tr>\n",
       "    <tr>\n",
       "      <th>2936</th>\n",
       "      <td>2001</td>\n",
       "      <td>1</td>\n",
       "      <td>686.0</td>\n",
       "      <td>25</td>\n",
       "      <td>1.72</td>\n",
       "      <td>0.000000</td>\n",
       "      <td>76.0</td>\n",
       "      <td>529</td>\n",
       "      <td>25.9</td>\n",
       "      <td>39</td>\n",
       "      <td>76.0</td>\n",
       "      <td>6.16</td>\n",
       "      <td>75.0</td>\n",
       "      <td>42.1</td>\n",
       "      <td>548.587312</td>\n",
       "      <td>12366165.0</td>\n",
       "      <td>1.6</td>\n",
       "      <td>1.7</td>\n",
       "      <td>0.427</td>\n",
       "      <td>9.8</td>\n",
       "    </tr>\n",
       "    <tr>\n",
       "      <th>2937</th>\n",
       "      <td>2000</td>\n",
       "      <td>1</td>\n",
       "      <td>665.0</td>\n",
       "      <td>24</td>\n",
       "      <td>1.68</td>\n",
       "      <td>0.000000</td>\n",
       "      <td>79.0</td>\n",
       "      <td>1483</td>\n",
       "      <td>25.5</td>\n",
       "      <td>39</td>\n",
       "      <td>78.0</td>\n",
       "      <td>7.10</td>\n",
       "      <td>78.0</td>\n",
       "      <td>43.5</td>\n",
       "      <td>547.358878</td>\n",
       "      <td>12222251.0</td>\n",
       "      <td>11.0</td>\n",
       "      <td>11.2</td>\n",
       "      <td>0.434</td>\n",
       "      <td>9.8</td>\n",
       "    </tr>\n",
       "  </tbody>\n",
       "</table>\n",
       "<p>2938 rows × 20 columns</p>\n",
       "</div>"
      ],
      "text/plain": [
       "      Year  Status  Adult_Mortality  infant_deaths  Alcohol   \n",
       "0     2015       1            263.0             62     0.01  \\\n",
       "1     2014       1            271.0             64     0.01   \n",
       "2     2013       1            268.0             66     0.01   \n",
       "3     2012       1            272.0             69     0.01   \n",
       "4     2011       1            275.0             71     0.01   \n",
       "...    ...     ...              ...            ...      ...   \n",
       "2933  2004       1            723.0             27     4.36   \n",
       "2934  2003       1            715.0             26     4.06   \n",
       "2935  2002       1             73.0             25     4.43   \n",
       "2936  2001       1            686.0             25     1.72   \n",
       "2937  2000       1            665.0             24     1.68   \n",
       "\n",
       "      percentage_expenditure  Hepatitis_B  Measles   BMI  under_five_deaths   \n",
       "0                  71.279624         65.0     1154  19.1                 83  \\\n",
       "1                  73.523582         62.0      492  18.6                 86   \n",
       "2                  73.219243         64.0      430  18.1                 89   \n",
       "3                  78.184215         67.0     2787  17.6                 93   \n",
       "4                   7.097109         68.0     3013  17.2                 97   \n",
       "...                      ...          ...      ...   ...                ...   \n",
       "2933                0.000000         68.0       31  27.1                 42   \n",
       "2934                0.000000          7.0      998  26.7                 41   \n",
       "2935                0.000000         73.0      304  26.3                 40   \n",
       "2936                0.000000         76.0      529  25.9                 39   \n",
       "2937                0.000000         79.0     1483  25.5                 39   \n",
       "\n",
       "      Polio  Total_expenditure  Diphtheria  HIV_AIDS         GDP  Population   \n",
       "0       6.0               8.16        65.0       0.1  584.259210  33736494.0  \\\n",
       "1      58.0               8.18        62.0       0.1  612.696514    327582.0   \n",
       "2      62.0               8.13        64.0       0.1  631.744976  31731688.0   \n",
       "3      67.0               8.52        67.0       0.1  669.959000   3696958.0   \n",
       "4      68.0               7.87        68.0       0.1   63.537231   2978599.0   \n",
       "...     ...                ...         ...       ...         ...         ...   \n",
       "2933   67.0               7.13        65.0      33.6  454.366654  12777511.0   \n",
       "2934    7.0               6.52        68.0      36.7  453.351155  12633897.0   \n",
       "2935   73.0               6.53        71.0      39.8   57.348340    125525.0   \n",
       "2936   76.0               6.16        75.0      42.1  548.587312  12366165.0   \n",
       "2937   78.0               7.10        78.0      43.5  547.358878  12222251.0   \n",
       "\n",
       "      thinness__1_19_years  thinness_5_9_years   \n",
       "0                     17.2                17.3  \\\n",
       "1                     17.5                17.5   \n",
       "2                     17.7                17.7   \n",
       "3                     17.9                18.0   \n",
       "4                     18.2                18.2   \n",
       "...                    ...                 ...   \n",
       "2933                   9.4                 9.4   \n",
       "2934                   9.8                 9.9   \n",
       "2935                   1.2                 1.3   \n",
       "2936                   1.6                 1.7   \n",
       "2937                  11.0                11.2   \n",
       "\n",
       "      Income_composition_of_resources  Schooling  \n",
       "0                               0.479       10.1  \n",
       "1                               0.476       10.0  \n",
       "2                               0.470        9.9  \n",
       "3                               0.463        9.8  \n",
       "4                               0.454        9.5  \n",
       "...                               ...        ...  \n",
       "2933                            0.407        9.2  \n",
       "2934                            0.418        9.5  \n",
       "2935                            0.427       10.0  \n",
       "2936                            0.427        9.8  \n",
       "2937                            0.434        9.8  \n",
       "\n",
       "[2938 rows x 20 columns]"
      ]
     },
     "execution_count": 102,
     "metadata": {},
     "output_type": "execute_result"
    }
   ],
   "source": [
    "x = df.drop('Life_expectancy',axis=1)\n",
    "x"
   ]
  },
  {
   "cell_type": "code",
   "execution_count": 103,
   "id": "3942627d",
   "metadata": {},
   "outputs": [
    {
     "data": {
      "text/plain": [
       "[66.49373890913077,\n",
       " 19.86686045612367,\n",
       " 4.801036957432244,\n",
       " 188.81659641472496,\n",
       " 4.383633307320453,\n",
       " 6.541985269816307,\n",
       " 18.405426280068795,\n",
       " 1.439613260905642,\n",
       " 8.104892333676158,\n",
       " 188.14994584827792,\n",
       " 26.064107784834178,\n",
       " 8.572553327064513,\n",
       " 28.407165084106616,\n",
       " 1.5898003756343153,\n",
       " 7.438447486690681,\n",
       " 1.5437955572068176,\n",
       " 19.326743206903803,\n",
       " 19.260788332112096,\n",
       " 31.235400818976114,\n",
       " 47.85066932286601]"
      ]
     },
     "execution_count": 103,
     "metadata": {},
     "output_type": "execute_result"
    }
   ],
   "source": [
    "vif_index=[]\n",
    "for i in range(x.shape[1]):\n",
    "    vif_index.append(variance_inflation_factor(x,i))\n",
    "vif_index"
   ]
  },
  {
   "cell_type": "code",
   "execution_count": 104,
   "id": "397dd646",
   "metadata": {},
   "outputs": [],
   "source": [
    "y=df['Life_expectancy']"
   ]
  },
  {
   "cell_type": "markdown",
   "id": "0329e4c4",
   "metadata": {},
   "source": [
    "### Model Training"
   ]
  },
  {
   "cell_type": "code",
   "execution_count": 105,
   "id": "7bf50ea7",
   "metadata": {},
   "outputs": [
    {
     "data": {
      "text/plain": [
       "(2350, 20)"
      ]
     },
     "execution_count": 105,
     "metadata": {},
     "output_type": "execute_result"
    }
   ],
   "source": [
    "x_train,x_test,y_train,y_test = train_test_split(x,y,test_size=0.2,random_state=10)\n",
    "x_train.shape"
   ]
  },
  {
   "cell_type": "code",
   "execution_count": 106,
   "id": "92fc3429",
   "metadata": {},
   "outputs": [],
   "source": [
    "lin_reg = LinearRegression()"
   ]
  },
  {
   "cell_type": "code",
   "execution_count": 107,
   "id": "04252ce6",
   "metadata": {},
   "outputs": [
    {
     "data": {
      "text/html": [
       "<style>#sk-container-id-1 {color: black;background-color: white;}#sk-container-id-1 pre{padding: 0;}#sk-container-id-1 div.sk-toggleable {background-color: white;}#sk-container-id-1 label.sk-toggleable__label {cursor: pointer;display: block;width: 100%;margin-bottom: 0;padding: 0.3em;box-sizing: border-box;text-align: center;}#sk-container-id-1 label.sk-toggleable__label-arrow:before {content: \"▸\";float: left;margin-right: 0.25em;color: #696969;}#sk-container-id-1 label.sk-toggleable__label-arrow:hover:before {color: black;}#sk-container-id-1 div.sk-estimator:hover label.sk-toggleable__label-arrow:before {color: black;}#sk-container-id-1 div.sk-toggleable__content {max-height: 0;max-width: 0;overflow: hidden;text-align: left;background-color: #f0f8ff;}#sk-container-id-1 div.sk-toggleable__content pre {margin: 0.2em;color: black;border-radius: 0.25em;background-color: #f0f8ff;}#sk-container-id-1 input.sk-toggleable__control:checked~div.sk-toggleable__content {max-height: 200px;max-width: 100%;overflow: auto;}#sk-container-id-1 input.sk-toggleable__control:checked~label.sk-toggleable__label-arrow:before {content: \"▾\";}#sk-container-id-1 div.sk-estimator input.sk-toggleable__control:checked~label.sk-toggleable__label {background-color: #d4ebff;}#sk-container-id-1 div.sk-label input.sk-toggleable__control:checked~label.sk-toggleable__label {background-color: #d4ebff;}#sk-container-id-1 input.sk-hidden--visually {border: 0;clip: rect(1px 1px 1px 1px);clip: rect(1px, 1px, 1px, 1px);height: 1px;margin: -1px;overflow: hidden;padding: 0;position: absolute;width: 1px;}#sk-container-id-1 div.sk-estimator {font-family: monospace;background-color: #f0f8ff;border: 1px dotted black;border-radius: 0.25em;box-sizing: border-box;margin-bottom: 0.5em;}#sk-container-id-1 div.sk-estimator:hover {background-color: #d4ebff;}#sk-container-id-1 div.sk-parallel-item::after {content: \"\";width: 100%;border-bottom: 1px solid gray;flex-grow: 1;}#sk-container-id-1 div.sk-label:hover label.sk-toggleable__label {background-color: #d4ebff;}#sk-container-id-1 div.sk-serial::before {content: \"\";position: absolute;border-left: 1px solid gray;box-sizing: border-box;top: 0;bottom: 0;left: 50%;z-index: 0;}#sk-container-id-1 div.sk-serial {display: flex;flex-direction: column;align-items: center;background-color: white;padding-right: 0.2em;padding-left: 0.2em;position: relative;}#sk-container-id-1 div.sk-item {position: relative;z-index: 1;}#sk-container-id-1 div.sk-parallel {display: flex;align-items: stretch;justify-content: center;background-color: white;position: relative;}#sk-container-id-1 div.sk-item::before, #sk-container-id-1 div.sk-parallel-item::before {content: \"\";position: absolute;border-left: 1px solid gray;box-sizing: border-box;top: 0;bottom: 0;left: 50%;z-index: -1;}#sk-container-id-1 div.sk-parallel-item {display: flex;flex-direction: column;z-index: 1;position: relative;background-color: white;}#sk-container-id-1 div.sk-parallel-item:first-child::after {align-self: flex-end;width: 50%;}#sk-container-id-1 div.sk-parallel-item:last-child::after {align-self: flex-start;width: 50%;}#sk-container-id-1 div.sk-parallel-item:only-child::after {width: 0;}#sk-container-id-1 div.sk-dashed-wrapped {border: 1px dashed gray;margin: 0 0.4em 0.5em 0.4em;box-sizing: border-box;padding-bottom: 0.4em;background-color: white;}#sk-container-id-1 div.sk-label label {font-family: monospace;font-weight: bold;display: inline-block;line-height: 1.2em;}#sk-container-id-1 div.sk-label-container {text-align: center;}#sk-container-id-1 div.sk-container {/* jupyter's `normalize.less` sets `[hidden] { display: none; }` but bootstrap.min.css set `[hidden] { display: none !important; }` so we also need the `!important` here to be able to override the default hidden behavior on the sphinx rendered scikit-learn.org. See: https://github.com/scikit-learn/scikit-learn/issues/21755 */display: inline-block !important;position: relative;}#sk-container-id-1 div.sk-text-repr-fallback {display: none;}</style><div id=\"sk-container-id-1\" class=\"sk-top-container\"><div class=\"sk-text-repr-fallback\"><pre>LinearRegression()</pre><b>In a Jupyter environment, please rerun this cell to show the HTML representation or trust the notebook. <br />On GitHub, the HTML representation is unable to render, please try loading this page with nbviewer.org.</b></div><div class=\"sk-container\" hidden><div class=\"sk-item\"><div class=\"sk-estimator sk-toggleable\"><input class=\"sk-toggleable__control sk-hidden--visually\" id=\"sk-estimator-id-1\" type=\"checkbox\" checked><label for=\"sk-estimator-id-1\" class=\"sk-toggleable__label sk-toggleable__label-arrow\">LinearRegression</label><div class=\"sk-toggleable__content\"><pre>LinearRegression()</pre></div></div></div></div></div>"
      ],
      "text/plain": [
       "LinearRegression()"
      ]
     },
     "execution_count": 107,
     "metadata": {},
     "output_type": "execute_result"
    }
   ],
   "source": [
    "lin_reg.fit(x_train,y_train)"
   ]
  },
  {
   "cell_type": "code",
   "execution_count": 108,
   "id": "96a90cc0",
   "metadata": {},
   "outputs": [
    {
     "data": {
      "text/plain": [
       "array([78.1666095 , 55.57836862, 75.12799613, 79.85699332, 60.18366578,\n",
       "       79.88211664, 63.41721012, 70.36730382, 60.50026742, 74.62930116,\n",
       "       72.09570156, 75.69003213, 70.83297849, 62.82098746, 80.39021786,\n",
       "       69.79084295, 73.55774946, 80.537489  , 73.50527318, 71.79170765,\n",
       "       72.20980382, 60.31519946, 76.54431755, 77.17886469, 66.86752484,\n",
       "       68.75087256, 82.57359837, 81.74609131, 76.9854409 , 64.94411247,\n",
       "       78.15330551, 81.28384043, 80.30158049, 61.02569247, 72.77145988,\n",
       "       79.45775005, 83.14229162, 63.78988997, 62.24808677, 70.43901739,\n",
       "       75.7621909 , 67.41725331, 67.73553551, 66.25946152, 72.28740783,\n",
       "       83.33443181, 77.81409933, 71.06894448, 77.35858794, 75.5739784 ,\n",
       "       71.16325025, 48.6470743 , 71.36001714, 78.06539109, 82.625809  ,\n",
       "       74.637756  , 68.48010176, 61.6695354 , 65.13371069, 61.89013145,\n",
       "       49.20600341, 73.84025441, 68.36565775, 60.58219636, 77.05986823,\n",
       "       66.84719216, 71.03819987, 61.6029056 , 76.1163736 , 78.60912509,\n",
       "       76.57564368, 68.33885774, 50.58809088, 51.62047141, 72.54313436,\n",
       "       72.37697188, 62.57584002, 63.3083276 , 70.52440892, 66.24154452,\n",
       "       78.14149713, 72.57112286, 69.67183037, 72.38662978, 58.34144011,\n",
       "       65.60318657, 73.23877399, 53.11044202, 77.94453674, 65.7250201 ,\n",
       "       61.696991  , 58.67289856, 71.37147757, 71.05156249, 74.67508978,\n",
       "       69.04851662, 60.4156881 , 60.31208908, 79.25007584, 64.36712382,\n",
       "       76.61130317, 66.90907001, 77.03434504, 62.64028031, 76.28109842,\n",
       "       59.85469565, 68.23310587, 64.0670114 , 67.92216529, 69.21560354,\n",
       "       68.70152643, 75.06285266, 59.71839868, 70.57256003, 76.09195919,\n",
       "       71.88998126, 69.43622564, 49.70308276, 56.43743417, 70.07755511,\n",
       "       73.28085071, 78.06858707, 56.76400599, 73.09315112, 52.37922308,\n",
       "       69.82448389, 78.08338553, 77.9717284 , 60.51642339, 70.66603771,\n",
       "       71.85479591, 79.34988009, 58.54741143, 73.4627548 , 74.37461301,\n",
       "       80.92883778, 75.31119025, 70.5563401 , 59.7487791 , 63.92503196,\n",
       "       69.913869  , 77.74644059, 63.77764864, 50.16495785, 69.71452289,\n",
       "       61.67193971, 44.27592073, 81.22901679, 71.42030409, 61.51669186,\n",
       "       76.00342033, 62.33197103, 76.51235619, 75.62661286, 70.85280582,\n",
       "       64.50082612, 72.55137912, 69.40136003, 53.50300731, 64.56983625,\n",
       "       72.77654432, 71.30631833, 70.75705062, 72.42755403, 74.2445056 ,\n",
       "       78.34031521, 71.43198829, 58.00210551, 75.78500665, 79.99624608,\n",
       "       66.29839079, 80.72533294, 71.30592311, 69.40664362, 58.22815574,\n",
       "       63.08324129, 82.69024262, 54.44967153, 71.36267549, 81.00289391,\n",
       "       72.69667547, 71.82357942, 67.18443941, 69.9420971 , 50.97403364,\n",
       "       72.63491651, 62.49640559, 75.04321553, 74.0246119 , 79.26657454,\n",
       "       61.9719122 , 70.02968765, 70.4374411 , 72.09784509, 61.05025694,\n",
       "       70.81201626, 69.47955024, 70.02055492, 71.48038713, 70.14791085,\n",
       "       74.78245342, 78.62074334, 74.48474728, 60.53832837, 80.21832225,\n",
       "       48.43032659, 74.40129918, 74.97814322, 63.88331819, 73.65785179,\n",
       "       72.17120633, 74.699709  , 64.86389301, 63.00312992, 51.09215784,\n",
       "       74.14722084, 63.81599416, 66.95656409, 76.92936269, 68.98115477,\n",
       "       79.6538601 , 72.51295348, 66.12065845, 72.23008266, 60.25292291,\n",
       "       68.51414268, 60.91010601, 78.7937186 , 63.50111049, 76.95937646,\n",
       "       58.85947881, 70.51555069, 75.99059145, 76.04404287, 77.19433421,\n",
       "       77.09182975, 71.43191916, 69.9617491 , 58.40150197, 65.98023109,\n",
       "       58.26197744, 72.86670681, 75.06459973, 65.7880294 , 69.01361835,\n",
       "       50.12234371, 71.66024193, 70.69595364, 81.93785835, 50.85448288,\n",
       "       81.27459128, 76.78084858, 80.86276487, 62.07794506, 53.93222495,\n",
       "       54.89280851, 69.63615799, 60.90873195, 70.61501568, 61.53440796,\n",
       "       68.7953243 , 74.01367704, 60.20558175, 52.45522864, 72.30380762,\n",
       "       69.22931624, 70.38467347, 68.34304566, 78.53175302, 63.9945972 ,\n",
       "       79.65963309, 75.16620214, 82.39542149, 73.11086385, 78.27005172,\n",
       "       68.5704595 , 77.83721459, 68.82428566, 58.41228564, 60.64925428,\n",
       "       71.8428223 , 57.17415249, 71.23838432, 67.13437983, 71.21179641,\n",
       "       70.42067208, 71.91058803, 68.56175616, 73.82122699, 77.38883824,\n",
       "       76.33380811, 56.20913605, 69.64246672, 61.82268338, 69.47944351,\n",
       "       76.21390058, 79.30289066, 70.21031139, 69.49986282, 44.25708133,\n",
       "       76.50981722, 81.12230264, 69.18033434, 75.29665194, 49.17015538,\n",
       "       50.04916945, 72.63664306, 70.32828723, 66.29962789, 81.06554272,\n",
       "       76.6424645 , 73.14775914, 75.56578931, 55.11785118, 70.61846971,\n",
       "       80.77937372, 69.13231214, 68.37883516, 62.37995185, 52.4506384 ,\n",
       "       74.43656469, 65.30034831, 76.89803221, 60.62184306, 68.5434554 ,\n",
       "       71.01124848, 64.14074765, 74.53380899, 73.23826006, 69.30223635,\n",
       "       77.74101551, 60.92201059, 79.59822655, 63.22145819, 73.28006681,\n",
       "       69.33910621, 69.13347868, 65.84581317, 71.18340419, 76.24420522,\n",
       "       62.22261024, 58.76179597, 65.62178491, 73.82401285, 77.45350225,\n",
       "       75.85717239, 80.54718534, 76.46262313, 72.6825088 , 65.33298369,\n",
       "       69.76223384, 65.5075911 , 61.72085452, 71.66177068, 75.93125331,\n",
       "       70.77552049, 75.60334581, 71.20245202, 67.87987866, 68.91992971,\n",
       "       72.43888041, 63.86895504, 70.01858918, 75.18363047, 71.14948497,\n",
       "       57.64066429, 63.11996798, 62.71610187, 56.6326545 , 71.76437293,\n",
       "       58.09308561, 72.06527534, 62.50461489, 62.57749184, 73.13913925,\n",
       "       70.45645765, 66.18755688, 71.36015255, 81.58924061, 70.86210211,\n",
       "       70.70877911, 68.50268281, 56.60875219, 70.11682109, 75.65197641,\n",
       "       63.95637037, 71.75641991, 52.06887277, 74.05797869, 77.38283296,\n",
       "       63.35738691, 68.36219071, 80.96786549, 62.35198896, 73.07531527,\n",
       "       60.6131654 , 56.49571807, 71.51301356, 74.14165376, 55.42712979,\n",
       "       80.87514632, 75.014325  , 74.54172785, 52.92760898, 75.13392786,\n",
       "       54.35908441, 73.86273165, 74.62448726, 62.18102739, 64.98986284,\n",
       "       69.6705319 , 72.66532457, 76.38035697, 72.04445553, 68.3335749 ,\n",
       "       66.45973076, 73.08693586, 58.71955966, 68.747297  , 75.21261683,\n",
       "       53.13472339, 75.4696709 , 81.55488476, 64.39487174, 59.57509865,\n",
       "       71.57598908, 60.52913308, 64.58243801, 64.67971127, 78.84606696,\n",
       "       76.09481018, 62.38708172, 72.37200836, 79.30886479, 76.99865228,\n",
       "       75.38076392, 64.79139828, 71.44555915, 44.15427864, 73.74334748,\n",
       "       79.31109773, 65.83196227, 78.05393021, 69.45831798, 74.86035815,\n",
       "       72.99408653, 59.94875589, 85.11681026, 70.92072485, 72.46945056,\n",
       "       75.31792035, 73.75258855, 79.09021639, 69.38302387, 42.25031651,\n",
       "       69.38315628, 70.79041118, 67.68735451, 60.97592766, 58.91126149,\n",
       "       73.9534656 , 85.4239629 , 79.51717737, 58.55382472, 81.28702465,\n",
       "       68.66829679, 79.66364067, 72.59498804, 55.34321292, 62.34508828,\n",
       "       73.45621677, 34.60546671, 68.01578166, 76.88374795, 75.11369305,\n",
       "       70.84343808, 76.67776733, 79.79200593, 63.36086269, 69.77275543,\n",
       "       63.07528282, 82.71538868, 80.60384198, 53.57222147, 79.65787679,\n",
       "       58.15956147, 83.05541113, 71.61515827, 76.71796392, 62.62345794,\n",
       "       57.34725022, 80.21969922, 58.99255336, 71.36810239, 71.47579991,\n",
       "       60.37721935, 52.99275262, 70.82430154, 60.9549606 , 44.08981509,\n",
       "       70.2749422 , 61.64702424, 71.09650645, 73.22803158, 60.78252041,\n",
       "       76.56302842, 64.08154095, 68.44090618, 80.25062758, 75.56363195,\n",
       "       75.05253001, 76.01266712, 71.81146598, 75.28372525, 78.06168577,\n",
       "       57.69577567, 74.84383989, 76.22457673, 72.27305216, 54.74998703,\n",
       "       74.39548639, 82.5804242 , 72.52298242, 54.69384952, 73.05178499,\n",
       "       71.48731185, 67.94892753, 59.51069386, 69.45824233, 74.61907133,\n",
       "       74.69724984, 45.47657113, 62.20095442, 73.36938552, 72.77639001,\n",
       "       69.10224433, 76.71649377, 62.4231436 , 79.92841499, 75.25401163,\n",
       "       69.30434418, 78.08297066, 75.34901537, 71.10005154, 80.44578006,\n",
       "       73.32309762, 64.40498144, 68.62962372, 77.32290723, 54.83402161,\n",
       "       74.45869671, 59.54063686, 68.40091317, 66.96875247, 67.06358351,\n",
       "       60.49799667, 75.16640634, 53.47475724, 70.97755328, 71.39174485,\n",
       "       73.35186849, 55.96988427, 68.15957251, 74.89419302, 73.56720207,\n",
       "       70.50745096, 71.02379145, 67.30821344, 75.45239923, 65.30589086,\n",
       "       65.88937109, 75.75803226, 47.37473285, 64.11547365, 79.70854813,\n",
       "       60.4001513 , 70.93606912, 70.68453947, 68.02250817, 67.58375753,\n",
       "       67.39055169, 72.52407325, 73.00942904, 67.75762305, 73.09395457,\n",
       "       49.02661692, 64.55957545, 72.86732609])"
      ]
     },
     "execution_count": 108,
     "metadata": {},
     "output_type": "execute_result"
    }
   ],
   "source": [
    "y_pred_test = lin_reg.predict(x_test)\n",
    "y_pred_test"
   ]
  },
  {
   "cell_type": "code",
   "execution_count": 109,
   "id": "a9f3cd8e",
   "metadata": {},
   "outputs": [
    {
     "data": {
      "text/plain": [
       "array([60.07340012, 71.60944673, 76.57545362, ..., 72.94712351,\n",
       "       54.82032857, 79.57710984])"
      ]
     },
     "execution_count": 109,
     "metadata": {},
     "output_type": "execute_result"
    }
   ],
   "source": [
    "y_pred_train = lin_reg.predict(x_train)\n",
    "y_pred_train"
   ]
  },
  {
   "cell_type": "code",
   "execution_count": 110,
   "id": "ee11dcb6",
   "metadata": {},
   "outputs": [
    {
     "name": "stdout",
     "output_type": "stream",
     "text": [
      "mean_squared_error on testing data :  15.408378566812882\n",
      "Root mean_squared_error on testing data :  3.9253507571697184\n",
      "mean_absolute_error on testing data :  2.9013400031420824\n",
      "r2_score on testing data :  0.8275721151315434\n",
      "adjusted r2_score on testing data :  0.8263898876041629\n"
     ]
    }
   ],
   "source": [
    "residual_test = y_test - y_pred_test\n",
    "mse_test = mean_squared_error(y_test,y_pred_test)\n",
    "print('mean_squared_error on testing data : ',mse_test  )\n",
    "rmse_test = np.sqrt(mse_test)\n",
    "print('Root mean_squared_error on testing data : ',rmse_test  )\n",
    "mae_test = mean_absolute_error(y_test,y_pred_test)\n",
    "print('mean_absolute_error on testing data : ',mae_test  )\n",
    "r2_score_test = r2_score(y_test,y_pred_test)\n",
    "print('r2_score on testing data : ',r2_score_test  )\n",
    "adj_r2_test = 1 - (((x.shape[0]-1)*(1-r2_score_test)) / (x.shape[0]-x.shape[1]-1))\n",
    "print('adjusted r2_score on testing data : ',adj_r2_test )\n"
   ]
  },
  {
   "cell_type": "code",
   "execution_count": 111,
   "id": "c686ee33",
   "metadata": {},
   "outputs": [
    {
     "name": "stdout",
     "output_type": "stream",
     "text": [
      "mean_squared_error on testing data :  16.523984291481785\n",
      "Root mean_squared_error on testing data :  4.064970392448362\n",
      "mean_absolute_error on testing data :  3.0342215122454665\n",
      "r2_score on testing data :  0.8176417050517415\n",
      "adjusted r2_score on testing data :  0.8163913910651234\n"
     ]
    }
   ],
   "source": [
    "residual_train = y_train - y_pred_train\n",
    "mse_train = mean_squared_error(y_train,y_pred_train)\n",
    "print('mean_squared_error on testing data : ',mse_train  )\n",
    "rmse_train = np.sqrt(mse_train)\n",
    "print('Root mean_squared_error on testing data : ',rmse_train  )\n",
    "mae_train = mean_absolute_error(y_train,y_pred_train)\n",
    "print('mean_absolute_error on testing data : ',mae_train  )\n",
    "r2_score_train = r2_score(y_train,y_pred_train)\n",
    "print('r2_score on testing data : ',r2_score_train  )\n",
    "adj_r2_train = 1 - (((x.shape[0]-1)*(1-r2_score_train)) / (x.shape[0]-x.shape[1]-1))\n",
    "print('adjusted r2_score on testing data : ',adj_r2_train )"
   ]
  },
  {
   "cell_type": "markdown",
   "id": "b116094b",
   "metadata": {},
   "source": [
    "### Residual distribution"
   ]
  },
  {
   "cell_type": "code",
   "execution_count": 115,
   "id": "be300944",
   "metadata": {},
   "outputs": [
    {
     "data": {
      "image/png": "[encoded data removed]",
      "text/plain": [
       "<Figure size 640x480 with 1 Axes>"
      ]
     },
     "execution_count": 115,
     "metadata": {},
     "output_type": "execute_result"
    },
    {
     "data": {
      "image/png": "[encoded data removed]",
      "text/plain": [
       "<Figure size 640x480 with 1 Axes>"
      ]
     },
     "metadata": {},
     "output_type": "display_data"
    }
   ],
   "source": [
    "sm.qqplot(residual_test,line='45',fit = True)"
   ]
  },
  {
   "cell_type": "code",
   "execution_count": 116,
   "id": "11069025",
   "metadata": {},
   "outputs": [
    {
     "data": {
      "image/png": "[encoded data removed]",
      "text/plain": [
       "<Figure size 640x480 with 1 Axes>"
      ]
     },
     "execution_count": 116,
     "metadata": {},
     "output_type": "execute_result"
    },
    {
     "data": {
      "image/png": "[encoded data removed]",
      "text/plain": [
       "<Figure size 640x480 with 1 Axes>"
      ]
     },
     "metadata": {},
     "output_type": "display_data"
    }
   ],
   "source": [
    "sm.qqplot(residual_train,line='45',fit = True)"
   ]
  },
  {
   "cell_type": "code",
   "execution_count": 123,
   "id": "5a3ea703",
   "metadata": {},
   "outputs": [
    {
     "data": {
      "text/plain": [
       "-0.16184132693849615"
      ]
     },
     "execution_count": 123,
     "metadata": {},
     "output_type": "execute_result"
    }
   ],
   "source": [
    "skew(residual_test)"
   ]
  },
  {
   "cell_type": "code",
   "execution_count": 124,
   "id": "af9ce0d1",
   "metadata": {},
   "outputs": [
    {
     "data": {
      "text/plain": [
       "-0.24486881634236585"
      ]
     },
     "execution_count": 124,
     "metadata": {},
     "output_type": "execute_result"
    }
   ],
   "source": [
    "skew(residual_train)"
   ]
  },
  {
   "cell_type": "code",
   "execution_count": 125,
   "id": "c769b05d",
   "metadata": {},
   "outputs": [
    {
     "data": {
      "text/plain": [
       "<Axes: xlabel='Life_expectancy', ylabel='Density'>"
      ]
     },
     "execution_count": 125,
     "metadata": {},
     "output_type": "execute_result"
    },
    {
     "data": {
      "image/png": "[encoded data removed]",
      "text/plain": [
       "<Figure size 640x480 with 1 Axes>"
      ]
     },
     "metadata": {},
     "output_type": "display_data"
    }
   ],
   "source": [
    "sns.kdeplot(residual_test)"
   ]
  },
  {
   "cell_type": "code",
   "execution_count": 126,
   "id": "1693d0c0",
   "metadata": {},
   "outputs": [
    {
     "data": {
      "text/plain": [
       "<Axes: xlabel='Life_expectancy', ylabel='Density'>"
      ]
     },
     "execution_count": 126,
     "metadata": {},
     "output_type": "execute_result"
    },
    {
     "data": {
      "image/png": "[encoded data removed]",
      "text/plain": [
       "<Figure size 640x480 with 1 Axes>"
      ]
     },
     "metadata": {},
     "output_type": "display_data"
    }
   ],
   "source": [
    "sns.kdeplot(residual_train)"
   ]
  },
  {
   "cell_type": "markdown",
   "id": "5e91f139",
   "metadata": {},
   "source": [
    "### homoskedasticity"
   ]
  },
  {
   "cell_type": "code",
   "execution_count": 128,
   "id": "4f6a20f3",
   "metadata": {},
   "outputs": [
    {
     "data": {
      "text/plain": [
       "<matplotlib.collections.PathCollection at 0x246ab93b450>"
      ]
     },
     "execution_count": 128,
     "metadata": {},
     "output_type": "execute_result"
    },
    {
     "data": {
      "image/png": "[encoded data removed]",
      "text/plain": [
       "<Figure size 640x480 with 1 Axes>"
      ]
     },
     "metadata": {},
     "output_type": "display_data"
    }
   ],
   "source": [
    "plt.scatter(y_test,residual_test)"
   ]
  },
  {
   "cell_type": "code",
   "execution_count": 130,
   "id": "cc6800f4",
   "metadata": {},
   "outputs": [],
   "source": [
    "with open('Linear_reg_life_expectancy.pkl','wb') as f:\n",
    "    pickle.dump(lin_reg,f)"
   ]
  },
  {
   "cell_type": "code",
   "execution_count": 131,
   "id": "a951979f",
   "metadata": {},
   "outputs": [],
   "source": [
    "json_data = {'Status' : {'Developing':1, 'Developed':2}}"
   ]
  },
  {
   "cell_type": "code",
   "execution_count": 132,
   "id": "ac1bdaae",
   "metadata": {},
   "outputs": [],
   "source": [
    "with open('jason_data.json','w') as f:\n",
    "    json.dump(json_data,f)"
   ]
  },
  {
   "cell_type": "code",
   "execution_count": null,
   "id": "4badc5bd",
   "metadata": {},
   "outputs": [],
   "source": []
  }
 ],
 "metadata": {
  "kernelspec": {
   "display_name": "Python 3 (ipykernel)",
   "language": "python",
   "name": "python3"
  },
  "language_info": {
   "codemirror_mode": {
    "name": "ipython",
    "version": 3
   },
   "file_extension": ".py",
   "mimetype": "text/x-python",
   "name": "python",
   "nbconvert_exporter": "python",
   "pygments_lexer": "ipython3",
   "version": "3.11.2"
  }
 },
 "nbformat": 4,
 "nbformat_minor": 5
}
